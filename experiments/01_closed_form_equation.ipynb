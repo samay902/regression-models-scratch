{
 "cells": [
  {
   "cell_type": "code",
   "execution_count": 1,
   "id": "bcfcc53e",
   "metadata": {},
   "outputs": [
    {
     "name": "stdout",
     "output_type": "stream",
     "text": [
      "[[1.         0.0859074 ]\n",
      " [1.         0.95080766]\n",
      " [1.         0.45205657]\n",
      " [1.         0.71224035]\n",
      " [1.         0.64243236]\n",
      " [1.         0.46823735]\n",
      " [1.         0.01459362]\n",
      " [1.         0.81949789]\n",
      " [1.         0.74006195]\n",
      " [1.         0.49920994]\n",
      " [1.         0.24752976]\n",
      " [1.         0.10946705]\n",
      " [1.         0.66092821]\n",
      " [1.         0.93690025]\n",
      " [1.         0.25346619]\n",
      " [1.         0.50130689]\n",
      " [1.         0.76437562]\n",
      " [1.         0.41763892]\n",
      " [1.         0.80690689]\n",
      " [1.         0.31843659]\n",
      " [1.         0.22534792]\n",
      " [1.         0.66499737]\n",
      " [1.         0.68752695]\n",
      " [1.         0.69118105]\n",
      " [1.         0.01925967]\n",
      " [1.         0.65163097]\n",
      " [1.         0.40543466]\n",
      " [1.         0.76993743]\n",
      " [1.         0.15184548]\n",
      " [1.         0.49725297]\n",
      " [1.         0.19518844]\n",
      " [1.         0.78500892]\n",
      " [1.         0.62352174]\n",
      " [1.         0.62327714]\n",
      " [1.         0.88950226]\n",
      " [1.         0.01230575]\n",
      " [1.         0.76846744]\n",
      " [1.         0.73775928]\n",
      " [1.         0.22429258]\n",
      " [1.         0.65706151]\n",
      " [1.         0.55304265]\n",
      " [1.         0.02421702]\n",
      " [1.         0.59124171]\n",
      " [1.         0.89861889]\n",
      " [1.         0.16264412]\n",
      " [1.         0.26299727]\n",
      " [1.         0.74470997]\n",
      " [1.         0.91694209]\n",
      " [1.         0.84237578]\n",
      " [1.         0.48986261]\n",
      " [1.         0.40597858]\n",
      " [1.         0.32711609]\n",
      " [1.         0.4528618 ]\n",
      " [1.         0.84423956]\n",
      " [1.         0.8974692 ]\n",
      " [1.         0.43195436]\n",
      " [1.         0.91943296]\n",
      " [1.         0.80496301]\n",
      " [1.         0.51709144]\n",
      " [1.         0.78283614]\n",
      " [1.         0.90187959]\n",
      " [1.         0.69066186]\n",
      " [1.         0.08989138]\n",
      " [1.         0.64898689]\n",
      " [1.         0.77950287]\n",
      " [1.         0.83168242]\n",
      " [1.         0.63953627]\n",
      " [1.         0.83850037]\n",
      " [1.         0.88771671]\n",
      " [1.         0.15601161]\n",
      " [1.         0.82159182]\n",
      " [1.         0.70871888]\n",
      " [1.         0.44101955]\n",
      " [1.         0.39668578]\n",
      " [1.         0.49926652]\n",
      " [1.         0.83233827]\n",
      " [1.         0.11240331]\n",
      " [1.         0.36929005]\n",
      " [1.         0.8864732 ]\n",
      " [1.         0.84050365]\n",
      " [1.         0.65669968]\n",
      " [1.         0.30630958]\n",
      " [1.         0.04999648]\n",
      " [1.         0.00795247]\n",
      " [1.         0.3826296 ]\n",
      " [1.         0.54956396]\n",
      " [1.         0.55293227]\n",
      " [1.         0.58436674]\n",
      " [1.         0.0144701 ]\n",
      " [1.         0.28137391]\n",
      " [1.         0.08058954]\n",
      " [1.         0.12191196]\n",
      " [1.         0.50167769]\n",
      " [1.         0.72119211]\n",
      " [1.         0.72976722]\n",
      " [1.         0.30350527]\n",
      " [1.         0.71290847]\n",
      " [1.         0.63735728]\n",
      " [1.         0.07808176]\n",
      " [1.         0.92699863]]\n"
     ]
    }
   ],
   "source": [
    "import numpy as np\n",
    "from sklearn.preprocessing import add_dummy_feature\n",
    "m=100\n",
    "x=np.random.rand(m,1)\n",
    "y=3*x+np.random.randn(m,1)\n",
    "x_b=add_dummy_feature(x)\n",
    "x_b=np.array(x_b)\n",
    "print(x_b)"
   ]
  },
  {
   "cell_type": "code",
   "execution_count": 5,
   "id": "2f833611",
   "metadata": {},
   "outputs": [
    {
     "name": "stdout",
     "output_type": "stream",
     "text": [
      "[[-0.1987649]\n",
      " [ 2.7518244]]\n"
     ]
    }
   ],
   "source": [
    "best_theta=np.linalg.inv(x_b.T@x_b)@x_b.T@y\n",
    "best_theta\n",
    "x_new=np.array([[0.20],[1.2]])\n",
    "x_new_b=add_dummy_feature(x_new)\n",
    "y_pred=x_new_b@best_theta\n",
    "\n",
    "print(best_theta)\n"
   ]
  },
  {
   "cell_type": "code",
   "execution_count": null,
   "id": "fecc80bd",
   "metadata": {},
   "outputs": [],
   "source": [
    "import matplotlib.pyplot as plt\n",
    "plt.figure(figsize=(12,6))\n",
    "plt.plot(x_new,y_pred,\"r--\")\n",
    "plt.plot(x,y,\"b.\")\n",
    "plt.tight_layout()\n",
    "plt.show()"
   ]
  },
  {
   "cell_type": "markdown",
   "id": "b2b0aebc",
   "metadata": {},
   "source": [
    "THE ABOVE CODE IMPLEMENTS THE CLOSED FORM SOLUTION F0R FINDING THE BEST THETA PARAM IN A SINGLE GO INSTEAD OF GRADIENT DESCENT THAT NEEDS MULTIPLE EPOCHS TO GET TO A OPTIMAL THETA VALUE, BUT THIS SOLUTION HAS BOTH ITS PROS AND CONS,\n",
    "******pros*****\n",
    "1,theta found in one go with just a simple formula\n",
    "2,no problem of adjusting learning rate,adjusting the overshooting/undershooting of the cost function\n",
    "**cons**\n",
    "1,cant be used in a big dataset as might need a lot of performance power for the matrix inversing\n",
    "2,sometimes the matrices cant be inversed so this might not be a \"for-all\" solution  \n",
    "**So this is the first experiment of the project**\n"
   ]
  }
 ],
 "metadata": {
  "kernelspec": {
   "display_name": "Python 3",
   "language": "python",
   "name": "python3"
  },
  "language_info": {
   "codemirror_mode": {
    "name": "ipython",
    "version": 3
   },
   "file_extension": ".py",
   "mimetype": "text/x-python",
   "name": "python",
   "nbconvert_exporter": "python",
   "pygments_lexer": "ipython3",
   "version": "3.12.2"
  }
 },
 "nbformat": 4,
 "nbformat_minor": 5
}
