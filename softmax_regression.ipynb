{
 "cells": [
  {
   "cell_type": "code",
   "execution_count": 8,
   "id": "c6dcd7a4",
   "metadata": {},
   "outputs": [],
   "source": [
    "from sklearn.datasets import load_iris\n",
    "import numpy as np\n",
    "import random\n",
    "iris=load_iris()\n",
    "x=iris.data\n",
    "x=np.array(x)\n",
    "y=iris.target\n"
   ]
  },
  {
   "cell_type": "code",
   "execution_count": 9,
   "id": "9899b22a",
   "metadata": {},
   "outputs": [],
   "source": [
    "def train_test_split(x,y,seed):\n",
    "    np.random.seed(seed)\n",
    "    combined=list(zip(x,y))\n",
    "    random.shuffle(combined)\n",
    "    x_shuffled,y_shuffled=zip(*combined)\n",
    "    train_ratio=0.8\n",
    "    train_idx=int(len(x_shuffled)*train_ratio)\n",
    "    x_train=x_shuffled[:train_idx]\n",
    "    y_train=y_shuffled[:train_idx]\n",
    "    x_test=x_shuffled[train_idx:]\n",
    "    y_test=x_shuffled[train_idx:]\n",
    "    return x_train,y_train,x_test,y_test\n",
    "x_train,y_train,x_test,y_test=train_test_split(x,y,23)\n",
    "\n",
    "\n"
   ]
  },
  {
   "cell_type": "code",
   "execution_count": null,
   "id": "d36b266d",
   "metadata": {},
   "outputs": [],
   "source": [
    "w=np.random.randn(3,4)\n",
    "\n",
    "\n",
    "\n",
    "b_len=int(x.size)\n",
    "b=np.random.randn(150)#150 = sample size \n",
    "w@x.T+b\n",
    "\n"
   ]
  },
  {
   "cell_type": "code",
   "execution_count": null,
   "id": "79ff4433",
   "metadata": {},
   "outputs": [],
   "source": []
  }
 ],
 "metadata": {
  "kernelspec": {
   "display_name": "Python 3",
   "language": "python",
   "name": "python3"
  },
  "language_info": {
   "codemirror_mode": {
    "name": "ipython",
    "version": 3
   },
   "file_extension": ".py",
   "mimetype": "text/x-python",
   "name": "python",
   "nbconvert_exporter": "python",
   "pygments_lexer": "ipython3",
   "version": "3.12.2"
  }
 },
 "nbformat": 4,
 "nbformat_minor": 5
}
