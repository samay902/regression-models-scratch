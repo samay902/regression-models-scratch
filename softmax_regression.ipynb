{
 "cells": [
  {
   "cell_type": "code",
   "execution_count": 8,
   "id": "c6dcd7a4",
   "metadata": {},
   "outputs": [],
   "source": [
    "from sklearn.datasets import load_iris\n",
    "import numpy as np\n",
    "import random\n",
    "iris=load_iris()\n",
    "x=iris.data\n",
    "x=np.array(x)\n",
    "y=iris.target\n"
   ]
  },
  {
   "cell_type": "code",
   "execution_count": 9,
   "id": "9899b22a",
   "metadata": {},
   "outputs": [],
   "source": [
    "def train_test_split(x,y,seed):\n",
    "    np.random.seed(seed)\n",
    "    combined=list(zip(x,y))\n",
    "    random.shuffle(combined)\n",
    "    x_shuffled,y_shuffled=zip(*combined)\n",
    "    train_ratio=0.8\n",
    "    train_idx=int(len(x_shuffled)*train_ratio)\n",
    "    x_train=x_shuffled[:train_idx]\n",
    "    y_train=y_shuffled[:train_idx]\n",
    "    x_test=x_shuffled[train_idx:]\n",
    "    y_test=x_shuffled[train_idx:]\n",
    "    return x_train,y_train,x_test,y_test\n",
    "x_train,y_train,x_test,y_test=train_test_split(x,y,23)\n",
    "\n",
    "\n"
   ]
  },
  {
   "cell_type": "code",
   "execution_count": null,
   "id": "d36b266d",
   "metadata": {},
   "outputs": [
    {
     "ename": "ValueError",
     "evalue": "operands could not be broadcast together with shapes (3,150) (12,) ",
     "output_type": "error",
     "traceback": [
      "\u001b[1;31m---------------------------------------------------------------------------\u001b[0m",
      "\u001b[1;31mValueError\u001b[0m                                Traceback (most recent call last)",
      "Cell \u001b[1;32mIn[16], line 3\u001b[0m\n\u001b[0;32m      1\u001b[0m w\u001b[38;5;241m=\u001b[39mnp\u001b[38;5;241m.\u001b[39mrandom\u001b[38;5;241m.\u001b[39mrandn(\u001b[38;5;241m3\u001b[39m,\u001b[38;5;241m4\u001b[39m)\n\u001b[0;32m      2\u001b[0m b\u001b[38;5;241m=\u001b[39mnp\u001b[38;5;241m.\u001b[39mrandom\u001b[38;5;241m.\u001b[39mrandn(\u001b[38;5;241m12\u001b[39m)\n\u001b[1;32m----> 3\u001b[0m \u001b[43mw\u001b[49m\u001b[38;5;129;43m@x\u001b[39;49m\u001b[38;5;241;43m.\u001b[39;49m\u001b[43mT\u001b[49m\u001b[38;5;241;43m+\u001b[39;49m\u001b[43mb\u001b[49m\n",
      "\u001b[1;31mValueError\u001b[0m: operands could not be broadcast together with shapes (3,150) (12,) "
     ]
    }
   ],
   "source": [
    "w=np.random.randn(3,4)\n",
    "b=np.random.randn(12)\n",
    "w@x.T\n",
    "\n"
   ]
  }
 ],
 "metadata": {
  "kernelspec": {
   "display_name": "Python 3",
   "language": "python",
   "name": "python3"
  },
  "language_info": {
   "codemirror_mode": {
    "name": "ipython",
    "version": 3
   },
   "file_extension": ".py",
   "mimetype": "text/x-python",
   "name": "python",
   "nbconvert_exporter": "python",
   "pygments_lexer": "ipython3",
   "version": "3.12.2"
  }
 },
 "nbformat": 4,
 "nbformat_minor": 5
}
