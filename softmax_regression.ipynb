{
 "cells": [
  {
   "cell_type": "code",
   "execution_count": 9,
   "id": "c6dcd7a4",
   "metadata": {},
   "outputs": [],
   "source": [
    "from sklearn.datasets import load_iris\n",
    "import numpy as np\n",
    "import random\n",
    "iris=load_iris()\n",
    "x=iris.data\n",
    "y=iris.target\n"
   ]
  },
  {
   "cell_type": "code",
   "execution_count": null,
   "id": "9899b22a",
   "metadata": {},
   "outputs": [
    {
     "name": "stdout",
     "output_type": "stream",
     "text": [
      "(array([5. , 3.5, 1.6, 0.6]), array([4.5, 2.3, 1.3, 0.3]), array([6.4, 3.1, 5.5, 1.8]), array([5.5, 2.3, 4. , 1.3]), array([5.5, 4.2, 1.4, 0.2]), array([5.4, 3.9, 1.3, 0.4]), array([5. , 2. , 3.5, 1. ]), array([7.2, 3.6, 6.1, 2.5]), array([5.2, 3.5, 1.5, 0.2]), array([4.3, 3. , 1.1, 0.1]), array([5. , 3. , 1.6, 0.2]), array([4.4, 3. , 1.3, 0.2]), array([6.5, 3. , 5.5, 1.8]), array([6.5, 3. , 5.8, 2.2]), array([6.9, 3.2, 5.7, 2.3]), array([5.9, 3. , 5.1, 1.8]), array([5.7, 2.8, 4.5, 1.3]), array([6.3, 3.4, 5.6, 2.4]), array([5.6, 2.8, 4.9, 2. ]), array([6.3, 3.3, 4.7, 1.6]), array([7.7, 3.8, 6.7, 2.2]), array([5.8, 2.7, 5.1, 1.9]), array([6. , 2.9, 4.5, 1.5]), array([7.2, 3. , 5.8, 1.6]), array([6.1, 3. , 4.9, 1.8]), array([6.8, 3. , 5.5, 2.1]), array([5.3, 3.7, 1.5, 0.2]), array([6.1, 2.8, 4. , 1.3]), array([4.9, 3. , 1.4, 0.2]), array([7.1, 3. , 5.9, 2.1]), array([5.4, 3.7, 1.5, 0.2]), array([4.8, 3. , 1.4, 0.1]), array([5.8, 2.8, 5.1, 2.4]), array([6.5, 3.2, 5.1, 2. ]), array([5.5, 2.5, 4. , 1.3]), array([6.7, 3. , 5. , 1.7]), array([6.3, 2.7, 4.9, 1.8]), array([4.6, 3.2, 1.4, 0.2]), array([6.9, 3.1, 5.1, 2.3]), array([5.7, 2.8, 4.1, 1.3]), array([6.7, 3.3, 5.7, 2.1]), array([6.1, 2.8, 4.7, 1.2]), array([5.7, 4.4, 1.5, 0.4]), array([6.4, 3.2, 4.5, 1.5]), array([4.9, 2.4, 3.3, 1. ]), array([5.4, 3.4, 1.5, 0.4]), array([5.7, 3. , 4.2, 1.2]), array([5.8, 2.7, 4.1, 1. ]), array([7.7, 2.8, 6.7, 2. ]), array([5. , 3.6, 1.4, 0.2]), array([5.5, 2.4, 3.8, 1.1]), array([6.7, 3.1, 4.7, 1.5]), array([5.1, 3.7, 1.5, 0.4]), array([6.5, 3. , 5.2, 2. ]), array([6.2, 2.9, 4.3, 1.3]), array([6.4, 3.2, 5.3, 2.3]), array([6.7, 3. , 5.2, 2.3]), array([6.7, 2.5, 5.8, 1.8]), array([5.5, 2.4, 3.7, 1. ]), array([5.9, 3. , 4.2, 1.5]), array([6.9, 3.1, 4.9, 1.5]), array([5.8, 2.7, 5.1, 1.9]), array([5. , 3.5, 1.3, 0.3]), array([5.1, 3.5, 1.4, 0.2]), array([6. , 2.2, 4. , 1. ]), array([6.3, 2.5, 5. , 1.9]), array([6.2, 2.2, 4.5, 1.5]), array([5.6, 2.5, 3.9, 1.1]), array([6. , 3.4, 4.5, 1.6]), array([4.6, 3.4, 1.4, 0.3]), array([5.7, 2.6, 3.5, 1. ]), array([5.2, 2.7, 3.9, 1.4]), array([5. , 3.4, 1.6, 0.4]), array([7.9, 3.8, 6.4, 2. ]), array([6.4, 2.8, 5.6, 2.2]), array([5.7, 2.9, 4.2, 1.3]), array([6.3, 2.5, 4.9, 1.5]), array([6.8, 3.2, 5.9, 2.3]), array([5.1, 3.5, 1.4, 0.3]), array([6.3, 2.3, 4.4, 1.3]), array([6.1, 3. , 4.6, 1.4]), array([5.1, 3.3, 1.7, 0.5]), array([6.4, 2.7, 5.3, 1.9]), array([5.6, 3. , 4.1, 1.3]), array([5.1, 3.8, 1.9, 0.4]), array([6.5, 2.8, 4.6, 1.5]), array([6.3, 2.8, 5.1, 1.5]), array([5.1, 3.8, 1.5, 0.3]), array([5.5, 2.6, 4.4, 1.2]), array([5.6, 2.7, 4.2, 1.3]), array([6. , 2.2, 5. , 1.5]), array([6.1, 2.9, 4.7, 1.4]), array([5.7, 2.5, 5. , 2. ]), array([6.4, 2.9, 4.3, 1.3]), array([4.6, 3.6, 1. , 0.2]), array([6.4, 2.8, 5.6, 2.1]), array([4.9, 3.1, 1.5, 0.2]), array([6.6, 3. , 4.4, 1.4]), array([4.4, 2.9, 1.4, 0.2]), array([5.1, 2.5, 3. , 1.1]), array([7.3, 2.9, 6.3, 1.8]), array([6.3, 2.9, 5.6, 1.8]), array([5.8, 4. , 1.2, 0.2]), array([5.1, 3.8, 1.6, 0.2]), array([4.8, 3.4, 1.9, 0.2]), array([7.7, 2.6, 6.9, 2.3]), array([5. , 2.3, 3.3, 1. ]), array([4.4, 3.2, 1.3, 0.2]), array([4.7, 3.2, 1.6, 0.2]), array([7. , 3.2, 4.7, 1.4]), array([4.9, 3.1, 1.5, 0.1]), array([5.5, 3.5, 1.3, 0.2]), array([5.2, 3.4, 1.4, 0.2]), array([5.4, 3.9, 1.7, 0.4]), array([5.2, 4.1, 1.5, 0.1]), array([4.7, 3.2, 1.3, 0.2]), array([5.6, 2.9, 3.6, 1.3]), array([5. , 3.4, 1.5, 0.2]), array([5.8, 2.7, 3.9, 1.2]), array([7.4, 2.8, 6.1, 1.9]))\n"
     ]
    }
   ],
   "source": [
    "def train_test_split(x,y,seed):\n",
    "    np.random.seed(seed)\n",
    "    combined=list(zip(x,y))\n",
    "    random.shuffle(combined)\n",
    "    x_shuffled,y_shuffled=zip(*combined)\n",
    "    train_ratio=0.8\n",
    "    train_idx=int(len(x_shuffled)*train_ratio)\n",
    "    x_train=x_shuffled[:train_idx]\n",
    "    y_train=y_shuffled[:train_idx]\n",
    "    x_test=x_shuffled[train_idx:]\n",
    "    y_test=x_shuffled[train_idx:]\n",
    "    return x_train,y_train,x_test,y_test\n",
    "x_train,y_train,x_test,y_test=train_test_split(x,y,23)\n",
    "\n",
    "\n"
   ]
  },
  {
   "cell_type": "code",
   "execution_count": null,
   "id": "d36b266d",
   "metadata": {},
   "outputs": [
    {
     "name": "stdout",
     "output_type": "stream",
     "text": [
      "[[ 0.66698806  0.02581308 -0.77761941  0.94863382]\n",
      " [ 0.70167179 -1.05108156 -0.36754812 -1.13745969]\n",
      " [-1.32214752  1.77225828 -0.34745899  0.67014016]]\n"
     ]
    }
   ],
   "source": [
    "w=np.random.randn(3,4)\n",
    "b=np.\n"
   ]
  }
 ],
 "metadata": {
  "kernelspec": {
   "display_name": "Python 3",
   "language": "python",
   "name": "python3"
  },
  "language_info": {
   "codemirror_mode": {
    "name": "ipython",
    "version": 3
   },
   "file_extension": ".py",
   "mimetype": "text/x-python",
   "name": "python",
   "nbconvert_exporter": "python",
   "pygments_lexer": "ipython3",
   "version": "3.12.2"
  }
 },
 "nbformat": 4,
 "nbformat_minor": 5
}
