{
 "cells": [
  {
   "cell_type": "code",
   "execution_count": 2,
   "id": "c6dcd7a4",
   "metadata": {},
   "outputs": [
    {
     "data": {
      "text/plain": [
       "150"
      ]
     },
     "execution_count": 2,
     "metadata": {},
     "output_type": "execute_result"
    }
   ],
   "source": [
    "from sklearn.datasets import load_iris\n",
    "import numpy as np\n",
    "import random\n",
    "iris=load_iris()\n",
    "x=np.array(iris.data)\n",
    "y=np.array(iris.target)\n",
    "len(y)\n"
   ]
  },
  {
   "cell_type": "code",
   "execution_count": null,
   "id": "49a18a0a",
   "metadata": {},
   "outputs": [],
   "source": [
    "x_with_bias=np.c_[np.ones(len(x)),x]\n"
   ]
  },
  {
   "cell_type": "code",
   "execution_count": null,
   "id": "9899b22a",
   "metadata": {},
   "outputs": [
    {
     "data": {
      "text/plain": [
       "150"
      ]
     },
     "execution_count": 27,
     "metadata": {},
     "output_type": "execute_result"
    }
   ],
   "source": [
    "x_shuffled=np.random.permutation(x_with_bias)\n",
    "y_shuffled=np.random.permutation(y)\n",
    "train_idx=int(len(x)*0.6)\n",
    "valid_idx=int(len(x)*0.2)\n",
    "test_idx=int(len(x)*0.2)\n",
    "   \n",
    "x_train=x_shuffled[:train_idx]\n",
    "y_train=y_shuffled[:train_idx]\n",
    "x_valid=x_shuffled[train_idx:-test_idx]\n",
    "y_valid=y_shuffled[:train_idx:-test_idx]\n",
    "\n",
    "x_test=x_shuffled[-test_idx:]\n",
    "y_test=x_shuffled[-test_idx:]\n",
    "    \n",
    "\n",
    "\n"
   ]
  },
  {
   "cell_type": "code",
   "execution_count": 16,
   "id": "8a823b17",
   "metadata": {},
   "outputs": [
    {
     "data": {
      "text/plain": [
       "array([[1., 0., 0.],\n",
       "       [0., 1., 0.],\n",
       "       [0., 0., 1.]])"
      ]
     },
     "execution_count": 16,
     "metadata": {},
     "output_type": "execute_result"
    }
   ],
   "source": [
    "def to_one_hot(y):\n",
    "    return np.diag(np.ones(np.max(y)+1))\n",
    "to_one_hot(y_train)"
   ]
  },
  {
   "cell_type": "code",
   "execution_count": 28,
   "id": "251519ee",
   "metadata": {},
   "outputs": [],
   "source": [
    "mean=x_train[:,1:].mean(axis=0)\n",
    "std=x_train[:,1:].std(axis=0)\n",
    "x_train[:,1:]=(x_train[:,1:]-mean)/std\n",
    "x_valid[:,1:]=(x_valid[:,1:]-mean)/std\n",
    "x_test[:,1:]=(x_test[:,1:]-mean)/std\n"
   ]
  },
  {
   "cell_type": "code",
   "execution_count": null,
   "id": "6a62db36",
   "metadata": {},
   "outputs": [],
   "source": []
  }
 ],
 "metadata": {
  "kernelspec": {
   "display_name": "Python 3",
   "language": "python",
   "name": "python3"
  },
  "language_info": {
   "codemirror_mode": {
    "name": "ipython",
    "version": 3
   },
   "file_extension": ".py",
   "mimetype": "text/x-python",
   "name": "python",
   "nbconvert_exporter": "python",
   "pygments_lexer": "ipython3",
   "version": "3.12.2"
  }
 },
 "nbformat": 4,
 "nbformat_minor": 5
}
